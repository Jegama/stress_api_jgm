{
 "cells": [
  {
   "cell_type": "code",
   "execution_count": 1,
   "metadata": {},
   "outputs": [],
   "source": [
    "import pandas as pd"
   ]
  },
  {
   "cell_type": "code",
   "execution_count": 6,
   "metadata": {},
   "outputs": [
    {
     "data": {
      "text/html": [
       "<div>\n",
       "<style scoped>\n",
       "    .dataframe tbody tr th:only-of-type {\n",
       "        vertical-align: middle;\n",
       "    }\n",
       "\n",
       "    .dataframe tbody tr th {\n",
       "        vertical-align: top;\n",
       "    }\n",
       "\n",
       "    .dataframe thead th {\n",
       "        text-align: right;\n",
       "    }\n",
       "</style>\n",
       "<table border=\"1\" class=\"dataframe\">\n",
       "  <thead>\n",
       "    <tr style=\"text-align: right;\">\n",
       "      <th></th>\n",
       "      <th>datetime</th>\n",
       "      <th>HR</th>\n",
       "      <th>ST</th>\n",
       "      <th>GSR</th>\n",
       "    </tr>\n",
       "  </thead>\n",
       "  <tbody>\n",
       "    <tr>\n",
       "      <th>0</th>\n",
       "      <td>2016-07-12 10:51:31</td>\n",
       "      <td>83</td>\n",
       "      <td>90.716</td>\n",
       "      <td>0.000379</td>\n",
       "    </tr>\n",
       "    <tr>\n",
       "      <th>1</th>\n",
       "      <td>2016-07-12 10:51:32</td>\n",
       "      <td>83</td>\n",
       "      <td>90.716</td>\n",
       "      <td>0.000379</td>\n",
       "    </tr>\n",
       "    <tr>\n",
       "      <th>2</th>\n",
       "      <td>2016-07-12 10:51:32</td>\n",
       "      <td>83</td>\n",
       "      <td>90.716</td>\n",
       "      <td>0.000380</td>\n",
       "    </tr>\n",
       "    <tr>\n",
       "      <th>3</th>\n",
       "      <td>2016-07-12 10:51:33</td>\n",
       "      <td>83</td>\n",
       "      <td>90.716</td>\n",
       "      <td>0.000380</td>\n",
       "    </tr>\n",
       "    <tr>\n",
       "      <th>4</th>\n",
       "      <td>2016-07-12 10:51:34</td>\n",
       "      <td>84</td>\n",
       "      <td>90.716</td>\n",
       "      <td>0.000380</td>\n",
       "    </tr>\n",
       "  </tbody>\n",
       "</table>\n",
       "</div>"
      ],
      "text/plain": [
       "              datetime  HR      ST       GSR\n",
       "0  2016-07-12 10:51:31  83  90.716  0.000379\n",
       "1  2016-07-12 10:51:32  83  90.716  0.000379\n",
       "2  2016-07-12 10:51:32  83  90.716  0.000380\n",
       "3  2016-07-12 10:51:33  83  90.716  0.000380\n",
       "4  2016-07-12 10:51:34  84  90.716  0.000380"
      ]
     },
     "execution_count": 6,
     "metadata": {},
     "output_type": "execute_result"
    }
   ],
   "source": [
    "temp = pd.read_csv('test.csv')\n",
    "temp.drop(['Stress', 'Unnamed: 0', 'Longitude', 'Latitude', 'Participant'], axis = 1, inplace=True)\n",
    "temp.head()"
   ]
  },
  {
   "cell_type": "code",
   "execution_count": 7,
   "metadata": {},
   "outputs": [],
   "source": [
    "temp.to_csv('test.csv', index = None)"
   ]
  },
  {
   "cell_type": "code",
   "execution_count": null,
   "metadata": {},
   "outputs": [],
   "source": []
  },
  {
   "cell_type": "code",
   "execution_count": null,
   "metadata": {},
   "outputs": [],
   "source": []
  },
  {
   "cell_type": "code",
   "execution_count": 10,
   "metadata": {},
   "outputs": [
    {
     "name": "stdout",
     "output_type": "stream",
     "text": [
      "\n",
      "Successful request\n",
      "\n"
     ]
    }
   ],
   "source": [
    "import pandas as pd\n",
    "import requests\n",
    "\n",
    "def get_analysis(url, csv_file):\n",
    "    # load the input file and construct the payload for the request\n",
    "    csv_ = open(csv_file, \"rb\").read()\n",
    "    payload = {\"csv\": csv_}\n",
    "\n",
    "    # submit the request\n",
    "    r = requests.post(url, files=payload).json()\n",
    "\n",
    "    # ensure the request was successful\n",
    "    if r[\"success\"]:\n",
    "        print(\"\\nSuccessful request\\n\")\n",
    "        return r\n",
    "    # otherwise, the request failed\n",
    "    else:\n",
    "        print(\"\\nRequest failed\\n\")\n",
    "        return []\n",
    "        \n",
    "analysis = get_analysis('https://stress-api-jgm.herokuapp.com/analysis', 'test.csv')\n",
    "analysis.pop('success', None)\n",
    "output_df = pd.DataFrame.from_dict(analysis)\n",
    "output_df.to_csv('test_output.csv', index = None)"
   ]
  },
  {
   "cell_type": "code",
   "execution_count": null,
   "metadata": {},
   "outputs": [],
   "source": []
  }
 ],
 "metadata": {
  "kernelspec": {
   "display_name": "Python 3",
   "language": "python",
   "name": "python3"
  },
  "language_info": {
   "codemirror_mode": {
    "name": "ipython",
    "version": 3
   },
   "file_extension": ".py",
   "mimetype": "text/x-python",
   "name": "python",
   "nbconvert_exporter": "python",
   "pygments_lexer": "ipython3",
   "version": "3.6.5"
  }
 },
 "nbformat": 4,
 "nbformat_minor": 2
}
